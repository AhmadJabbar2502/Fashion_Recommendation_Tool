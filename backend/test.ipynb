{
 "cells": [
  {
   "cell_type": "code",
   "execution_count": 11,
   "metadata": {},
   "outputs": [
    {
     "name": "stdout",
     "output_type": "stream",
     "text": [
      "['Combine the black leather jacket with a crisp white button-up shirt and dark-wash skinny jeans for a timeless, edgy look. The contrast between the black jacket and white shirt adds visual interest, while the skinny jeans create a sleek silhouette.', 'Pair the black leather jacket with a black turtleneck and slim-fit black pants to create a monochromatic outfit that exudes sophistication and elegance. This minimalist look is perfect for formal or semi-formal occasions.', 'Wear the black leather jacket with a light grey cashmere sweater and black leather leggings to create a cozy yet stylish ensemble. This outfit is ideal for a casual day out or a dinner date.', 'Style the black leather jacket with a silk blouse in a soft pastel color, such as blush or lavender, and wide-leg trousers to add a feminine touch to the edgy jacket. This outfit is suitable for a night out or a special occasion.', 'Layer the black leather jacket over a floral midi dress to balance the feminine and edgy vibes. The leather jacket adds a modern twist to the dress, making it suitable for brunch or a garden party.', 'Pair the black leather jacket with distressed blue jeans, a plain white t-shirt, and white sneakers for a casual and laid-back look. This outfit is perfect for a day out with friends or a coffee run.', 'Pair the ripped jeans with a fitted white t-shirt, a black leather jacket, and black ankle boots for an edgy and rock-inspired outfit. This look is perfect for a concert or a night out.', 'Combine the ripped jeans with a chunky knit sweater in a neutral color, such as beige or cream, and white sneakers for a cozy and casual outfit. This outfit is suitable for a lazy day at home or a shopping trip.', 'Style the ripped jeans with a silk blouse in a bold color, such as red']\n"
     ]
    }
   ],
   "source": [
    "def extract_by_keyword(input_text, keyword):\n",
    "    return [\n",
    "        line.split(f\"{keyword} \")[1].strip()\n",
    "        for line in input_text.splitlines()\n",
    "        if keyword in line and f\"{keyword} \" in line\n",
    "    ]\n",
    "\n",
    "\n",
    "input_text = \"\"\"\n",
    "\n",
    "  1. Description: Combine the black leather jacket with a crisp white button-up shirt and dark-wash skinny jeans for a timeless, edgy look. The contrast between the black jacket and white shirt adds visual interest, while the skinny jeans create a sleek silhouette.\n",
    "\n",
    "  2. Description: Pair the black leather jacket with a black turtleneck and slim-fit black pants to create a monochromatic outfit that exudes sophistication and elegance. This minimalist look is perfect for formal or semi-formal occasions.\n",
    "\n",
    "  3. Description: Wear the black leather jacket with a light grey cashmere sweater and black leather leggings to create a cozy yet stylish ensemble. This outfit is ideal for a casual day out or a dinner date.\n",
    "\n",
    "  4. Description: Style the black leather jacket with a silk blouse in a soft pastel color, such as blush or lavender, and wide-leg trousers to add a feminine touch to the edgy jacket. This outfit is suitable for a night out or a special occasion.\n",
    "\n",
    "  5. Description: Layer the black leather jacket over a floral midi dress to balance the feminine and edgy vibes. The leather jacket adds a modern twist to the dress, making it suitable for brunch or a garden party.\n",
    "\n",
    "  6. Description: Pair the black leather jacket with distressed blue jeans, a plain white t-shirt, and white sneakers for a casual and laid-back look. This outfit is perfect for a day out with friends or a coffee run.\n",
    "  \n",
    "    Question: {'question': 'How do I style a pair of ripped jeans?'}\n",
    "\n",
    "  Answer:\n",
    "\n",
    "  \n",
    "\n",
    "  1. Description: Pair the ripped jeans with a fitted white t-shirt, a black leather jacket, and black ankle boots for an edgy and rock-inspired outfit. This look is perfect for a concert or a night out.\n",
    "\n",
    "  2. Description: Combine the ripped jeans with a chunky knit sweater in a neutral color, such as beige or cream, and white sneakers for a cozy and casual outfit. This outfit is suitable for a lazy day at home or a shopping trip.\n",
    "\n",
    "  3. Description: Style the ripped jeans with a silk blouse in a bold color, such as red\n",
    "\"\"\"\n",
    "\n",
    "# Extract descriptions\n",
    "descriptions = extract_by_keyword(input_text, \"Description:\")\n",
    "print(descriptions)"
   ]
  },
  {
   "cell_type": "code",
   "execution_count": 13,
   "metadata": {},
   "outputs": [
    {
     "name": "stdout",
     "output_type": "stream",
     "text": [
      "Error: 400 Client Error: Bad Request for url: https://api.groq.com/openai/v1/chat/completions\n"
     ]
    }
   ],
   "source": [
    "import requests\n",
    "\n",
    "GROQ_API_KEY = \"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\"\n",
    "GROQ_API_URL = \"https://api.groq.com/openai/v1/chat/completions\"\n",
    "\n",
    "headers = {\n",
    "    \"Authorization\": f\"Bearer {GROQ_API_KEY}\",\n",
    "    \"Content-Type\": \"application/json\",\n",
    "}\n",
    "\n",
    "payload = {\n",
    "    \"inputs\": \"What can I wear with pink polo?\",\n",
    "    \"parameters\": {\"top_k\": 5, \"temperature\": 0.8}\n",
    "}\n",
    "\n",
    "try:\n",
    "    response = requests.post(GROQ_API_URL, json=payload, headers=headers)\n",
    "    response.raise_for_status()\n",
    "    print(response.json())\n",
    "except requests.exceptions.RequestException as e:\n",
    "    print(f\"Error: {e}\")\n"
   ]
  },
  {
   "cell_type": "markdown",
   "metadata": {},
   "source": []
  }
 ],
 "metadata": {
  "kernelspec": {
   "display_name": "PAQIDB",
   "language": "python",
   "name": "python3"
  },
  "language_info": {
   "codemirror_mode": {
    "name": "ipython",
    "version": 3
   },
   "file_extension": ".py",
   "mimetype": "text/x-python",
   "name": "python",
   "nbconvert_exporter": "python",
   "pygments_lexer": "ipython3",
   "version": "3.11.9"
  }
 },
 "nbformat": 4,
 "nbformat_minor": 2
}
